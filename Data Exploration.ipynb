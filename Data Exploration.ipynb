{
 "cells": [
  {
   "cell_type": "code",
   "execution_count": 5,
   "metadata": {
    "ExecuteTime": {
     "end_time": "2019-03-04T12:27:33.002731Z",
     "start_time": "2019-03-04T12:27:32.870075Z"
    }
   },
   "outputs": [
    {
     "name": "stdout",
     "output_type": "stream",
     "text": [
      "8\t../jigsaw-toxic-comment-classification-challenge/Data Exploration.ipynb\r\n",
      "12272\t../jigsaw-toxic-comment-classification-challenge/sample_submission.csv\r\n",
      "117888\t../jigsaw-toxic-comment-classification-challenge/test.csv\r\n",
      "9728\t../jigsaw-toxic-comment-classification-challenge/test_labels.csv\r\n",
      "134384\t../jigsaw-toxic-comment-classification-challenge/train.csv\r\n"
     ]
    }
   ],
   "source": [
    "!du -L ../jigsaw-toxic-comment-classification-challenge/*"
   ]
  },
  {
   "cell_type": "code",
   "execution_count": 38,
   "metadata": {
    "ExecuteTime": {
     "end_time": "2019-03-04T12:53:23.118023Z",
     "start_time": "2019-03-04T12:53:23.099995Z"
    }
   },
   "outputs": [],
   "source": [
    "#import required packages\n",
    "#basics\n",
    "import pandas as pd \n",
    "import numpy as np\n",
    "\n",
    "#misc\n",
    "import gc\n",
    "import time\n",
    "import warnings\n",
    "\n",
    "#stats\n",
    "from scipy.misc import imread\n",
    "from scipy import sparse\n",
    "import scipy.stats as ss\n",
    "\n",
    "#viz\n",
    "import matplotlib.pyplot as plt\n",
    "import matplotlib.gridspec as gridspec \n",
    "import seaborn as sns\n",
    "from wordcloud import WordCloud ,STOPWORDS\n",
    "from PIL import Image\n",
    "import matplotlib_venn as venn\n",
    "\n",
    "#nlp\n",
    "import string\n",
    "import re    #for regex\n",
    "import nltk\n",
    "from nltk.corpus import stopwords\n",
    "import spacy\n",
    "from nltk import pos_tag\n",
    "from nltk.stem.wordnet import WordNetLemmatizer \n",
    "from nltk.tokenize import word_tokenize\n",
    "# Tweet tokenizer does not split at apostophes which is what we want\n",
    "from nltk.tokenize import TweetTokenizer   \n",
    "\n",
    "\n",
    "#FeatureEngineering\n",
    "from sklearn.feature_extraction.text import TfidfVectorizer, CountVectorizer, HashingVectorizer\n",
    "from sklearn.decomposition import TruncatedSVD\n",
    "from sklearn.base import BaseEstimator, ClassifierMixin\n",
    "from sklearn.utils.validation import check_X_y, check_is_fitted\n",
    "from sklearn.linear_model import LogisticRegression\n",
    "from sklearn import metrics\n",
    "from sklearn.metrics import log_loss\n",
    "from sklearn.model_selection import StratifiedKFold\n",
    "from sklearn.model_selection import train_test_split\n",
    "\n",
    "\n",
    "#settings\n",
    "start_time=time.time()\n",
    "color = sns.color_palette()\n",
    "sns.set_style(\"dark\")\n",
    "eng_stopwords = set(stopwords.words(\"english\"))\n",
    "warnings.filterwarnings(\"ignore\")\n",
    "\n",
    "lem = WordNetLemmatizer()\n",
    "tokenizer=TweetTokenizer()\n",
    "\n",
    "%matplotlib inline"
   ]
  },
  {
   "cell_type": "markdown",
   "metadata": {},
   "source": [
    "# Data Exploration"
   ]
  },
  {
   "cell_type": "markdown",
   "metadata": {},
   "source": [
    "## Check the basic info of the dataset"
   ]
  },
  {
   "cell_type": "code",
   "execution_count": 11,
   "metadata": {
    "ExecuteTime": {
     "end_time": "2019-03-04T12:32:01.755358Z",
     "start_time": "2019-03-04T12:32:00.086136Z"
    }
   },
   "outputs": [],
   "source": [
    "#importing the dataset\n",
    "train=pd.read_csv(\"../jigsaw-toxic-comment-classification-challenge/train.csv\")\n",
    "test=pd.read_csv(\"../jigsaw-toxic-comment-classification-challenge/test.csv\")"
   ]
  },
  {
   "cell_type": "code",
   "execution_count": 15,
   "metadata": {
    "ExecuteTime": {
     "end_time": "2019-03-04T12:38:19.035992Z",
     "start_time": "2019-03-04T12:38:18.975738Z"
    }
   },
   "outputs": [
    {
     "name": "stdout",
     "output_type": "stream",
     "text": [
      "                      id                                       comment_text  \\\n",
      "159561  ffd2e85b07b3c7e4  \"\\nNo he did not, read it again (I would have ...   \n",
      "159562  ffd72e9766c09c97  \"\\n Auto guides and the motoring press are not...   \n",
      "159563  ffe029a7c79dc7fe  \"\\nplease identify what part of BLP applies be...   \n",
      "159564  ffe897e7f7182c90  Catalan independentism is the social movement ...   \n",
      "159565  ffe8b9316245be30  The numbers in parentheses are the additional ...   \n",
      "159566  ffe987279560d7ff  \":::::And for the second time of asking, when ...   \n",
      "159567  ffea4adeee384e90  You should be ashamed of yourself \\n\\nThat is ...   \n",
      "159568  ffee36eab5c267c9  Spitzer \\n\\nUmm, theres no actual article for ...   \n",
      "159569  fff125370e4aaaf3  And it looks like it was actually you who put ...   \n",
      "159570  fff46fc426af1f9a  \"\\nAnd ... I really don't think you understand...   \n",
      "\n",
      "        toxic  severe_toxic  obscene  threat  insult  identity_hate  \n",
      "159561      0             0        0       0       0              0  \n",
      "159562      0             0        0       0       0              0  \n",
      "159563      0             0        0       0       0              0  \n",
      "159564      0             0        0       0       0              0  \n",
      "159565      0             0        0       0       0              0  \n",
      "159566      0             0        0       0       0              0  \n",
      "159567      0             0        0       0       0              0  \n",
      "159568      0             0        0       0       0              0  \n",
      "159569      0             0        0       0       0              0  \n",
      "159570      0             0        0       0       0              0  \n",
      "<class 'pandas.core.frame.DataFrame'>\n",
      "RangeIndex: 159571 entries, 0 to 159570\n",
      "Data columns (total 8 columns):\n",
      "id               159571 non-null object\n",
      "comment_text     159571 non-null object\n",
      "toxic            159571 non-null int64\n",
      "severe_toxic     159571 non-null int64\n",
      "obscene          159571 non-null int64\n",
      "threat           159571 non-null int64\n",
      "insult           159571 non-null int64\n",
      "identity_hate    159571 non-null int64\n",
      "dtypes: int64(6), object(2)\n",
      "memory usage: 9.7+ MB\n",
      "None\n"
     ]
    }
   ],
   "source": [
    "#take a peak\n",
    "print(train.tail(10))\n",
    "print(train.info())"
   ]
  },
  {
   "cell_type": "code",
   "execution_count": 37,
   "metadata": {
    "ExecuteTime": {
     "end_time": "2019-03-04T12:52:59.090251Z",
     "start_time": "2019-03-04T12:52:59.045376Z"
    }
   },
   "outputs": [
    {
     "name": "stdout",
     "output_type": "stream",
     "text": [
      "Total number of toxic comments: 15294\n",
      "Non Toxic:  144277\n",
      "Toxic:  15294\n",
      "\n",
      "\n",
      "Non severe_toxic:  157976\n",
      "severe_toxic    :  1595\n",
      "Non obscene:  151122\n",
      "obscene    :  8449\n",
      "Non threat:  159093\n",
      "threat    :  478\n",
      "Non insult:  151694\n",
      "insult    :  7877\n",
      "Non identity_hate:  158166\n",
      "identity_hate    :  1405\n"
     ]
    }
   ],
   "source": [
    "# Check the number of each type of toxic comments\n",
    "print(\"Total number of toxic comments:\",train[train['toxic']==1].shape[0])\n",
    "print(\"Non Toxic: \",train.toxic.value_counts()[0])\n",
    "print(\"Toxic: \",train.toxic.value_counts()[1])\n",
    "print(\"\\n\")\n",
    "print(\"Non severe_toxic: \",train.severe_toxic.value_counts()[0])\n",
    "print(\"severe_toxic    : \",train.severe_toxic.value_counts()[1])\n",
    "print(\"Non obscene: \",train.obscene.value_counts()[0])\n",
    "print(\"obscene    : \",train.obscene.value_counts()[1])\n",
    "print(\"Non threat: \",train.threat.value_counts()[0])\n",
    "print(\"threat    : \",train.threat.value_counts()[1])\n",
    "print(\"Non insult: \",train.insult.value_counts()[0])\n",
    "print(\"insult    : \",train.insult.value_counts()[1])\n",
    "print(\"Non identity_hate: \",train.identity_hate.value_counts()[0])\n",
    "print(\"identity_hate    : \",train.identity_hate.value_counts()[1])"
   ]
  },
  {
   "cell_type": "code",
   "execution_count": 43,
   "metadata": {
    "ExecuteTime": {
     "end_time": "2019-03-04T13:03:31.491537Z",
     "start_time": "2019-03-04T13:03:31.486606Z"
    }
   },
   "outputs": [
    {
     "name": "stdout",
     "output_type": "stream",
     "text": [
      "       : train : test\n",
      "rows   : 159571 : 153164\n",
      "perc   : 51    : 49\n"
     ]
    }
   ],
   "source": [
    "#calculate the ratio of training set and test\n",
    "nrow_train=train.shape[0]\n",
    "nrow_test=test.shape[0]\n",
    "sum=nrow_train+nrow_test\n",
    "print(\"       : train : test\")\n",
    "print(\"rows   :\",nrow_train,\":\",nrow_test)\n",
    "print(\"perc   :\",round(nrow_train*100/sum),\"   :\",round(nrow_test*100/sum))"
   ]
  },
  {
   "cell_type": "markdown",
   "metadata": {},
   "source": [
    "## Class Imbalance"
   ]
  },
  {
   "cell_type": "code",
   "execution_count": 44,
   "metadata": {
    "ExecuteTime": {
     "end_time": "2019-03-04T13:03:33.403854Z",
     "start_time": "2019-03-04T13:03:33.105773Z"
    }
   },
   "outputs": [
    {
     "name": "stdout",
     "output_type": "stream",
     "text": [
      "Tags & Numbers:\n",
      "toxic            15294.0\n",
      "severe_toxic      1595.0\n",
      "obscene           8449.0\n",
      "threat             478.0\n",
      "insult            7877.0\n",
      "identity_hate     1405.0\n",
      "clean                0.0\n",
      "dtype: float64\n",
      "Total comments =  159571\n",
      "Total clean comments =  143346\n",
      "Total tags = 35098.0\n"
     ]
    }
   ],
   "source": [
    "#caculate the ratio of clean comments\n",
    "print(\"Tags & Numbers:\")\n",
    "x=train.iloc[:,2:].sum()  #make a statics of each tag of comments\n",
    "print(x)\n",
    "#marking comments without any tags as \"clean\"\n",
    "rowsums=train.iloc[:,2:].sum(axis=1)  #add the value from the 3st to the end columns \n",
    "train['clean']=(rowsums==0)\n",
    "#count number of clean entries\n",
    "print(\"Total comments = \",len(train))\n",
    "print(\"Total clean comments = \",train['clean'].sum())\n",
    "print(\"Total tags =\",x.sum())"
   ]
  },
  {
   "cell_type": "markdown",
   "metadata": {},
   "source": [
    "Total comments - Total clean comments = 16225 < Total tags = 35098. Some comments are multi-tagged."
   ]
  },
  {
   "cell_type": "code",
   "execution_count": 45,
   "metadata": {
    "ExecuteTime": {
     "end_time": "2019-03-04T13:04:18.891511Z",
     "start_time": "2019-03-04T13:04:18.535137Z"
    }
   },
   "outputs": [
    {
     "name": "stdout",
     "output_type": "stream",
     "text": [
      "Check for missing values in Train dataset\n",
      "id               0\n",
      "comment_text     0\n",
      "toxic            0\n",
      "severe_toxic     0\n",
      "obscene          0\n",
      "threat           0\n",
      "insult           0\n",
      "identity_hate    0\n",
      "clean            0\n",
      "dtype: int64\n",
      "Check for missing values in Test dataset\n",
      "id              0\n",
      "comment_text    0\n",
      "dtype: int64\n",
      "filling NA with \"unknown\"\n"
     ]
    }
   ],
   "source": [
    "#check the missing values in training set and test set\n",
    "print(\"Check for missing values in Train dataset\")\n",
    "null_check=train.isnull().sum()\n",
    "print(null_check)\n",
    "print(\"Check for missing values in Test dataset\")\n",
    "null_check=test.isnull().sum()\n",
    "print(null_check)\n",
    "print(\"filling NA with \\\"unknown\\\"\")\n",
    "train[\"comment_text\"].fillna(\"unknown\", inplace=True)\n",
    "test[\"comment_text\"].fillna(\"unknown\", inplace=True)"
   ]
  },
  {
   "cell_type": "code",
   "execution_count": 47,
   "metadata": {
    "ExecuteTime": {
     "end_time": "2019-03-04T14:35:26.564695Z",
     "start_time": "2019-03-04T14:35:26.166832Z"
    }
   },
   "outputs": [
    {
     "name": "stdout",
     "output_type": "stream",
     "text": [
      "Index(['toxic', 'severe_toxic', 'obscene', 'threat', 'insult', 'identity_hate',\n",
      "       'clean'],\n",
      "      dtype='object')\n",
      "[ 15294.   1595.   8449.    478.   7877.   1405. 143346.]\n"
     ]
    },
    {
     "data": {
      "image/png": "[encoded data removed]",
      "text/plain": [
       "<Figure size 576x288 with 1 Axes>"
      ]
     },
     "metadata": {
      "needs_background": "light"
     },
     "output_type": "display_data"
    }
   ],
   "source": [
    "x=train.iloc[:,2:].sum()\n",
    "print(x.index)\n",
    "print(x.values)\n",
    "plt.figure(figsize=(8,4))\n",
    "ax= sns.barplot(x.index, x.values, alpha=0.8)\n",
    "plt.title(\"Toxic Comments Count by Classes\")\n",
    "plt.ylabel('Occurrences', fontsize=12)\n",
    "# plt.xlabel('Type ', fontsize=12)\n",
    "#adding the text labels\n",
    "rects = ax.patches\n",
    "labels = x.values\n",
    "for rect, label in zip(rects, labels):\n",
    "    height = rect.get_height()\n",
    "    ax.text(rect.get_x() + rect.get_width()/2, height + 5, label, ha='center', va='bottom')  #rect.get_x() + rect.get_width()/2: write at the central\n",
    "\n",
    "plt.show()"
   ]
  },
  {
   "cell_type": "markdown",
   "metadata": {},
   "source": [
    "Conclusion:\n",
    "    1. The toxicity is not evenly spread out across classes. Hence we might face class imbalance problems\n",
    "    2. Some comments are multi-tagged"
   ]
  },
  {
   "cell_type": "markdown",
   "metadata": {},
   "source": [
    "## Multi-tagging"
   ]
  },
  {
   "cell_type": "code",
   "execution_count": 56,
   "metadata": {
    "ExecuteTime": {
     "end_time": "2019-03-04T14:51:32.535896Z",
     "start_time": "2019-03-04T14:51:32.369556Z"
    }
   },
   "outputs": [
    {
     "name": "stdout",
     "output_type": "stream",
     "text": [
      "0.0    143346\n",
      "1.0      6360\n",
      "3.0      4209\n",
      "2.0      3480\n",
      "4.0      1760\n",
      "5.0       385\n",
      "6.0        31\n",
      "dtype: int64\n"
     ]
    },
    {
     "data": {
      "image/png": "[encoded data removed]",
      "text/plain": [
       "<Figure size 576x288 with 1 Axes>"
      ]
     },
     "metadata": {
      "needs_background": "light"
     },
     "output_type": "display_data"
    }
   ],
   "source": [
    "x=rowsums.value_counts()\n",
    "print(x)\n",
    "\n",
    "#plot\n",
    "plt.figure(figsize=(8,4))\n",
    "ax = sns.barplot(x.index, x.values, alpha=0.8,color=color[2])\n",
    "plt.title(\"Multiple Tags per Comment\",fontsize=13)\n",
    "plt.ylabel('Occurrences', fontsize=12)\n",
    "plt.xlabel('Tags ', fontsize=12)\n",
    "\n",
    "#adding the text labels\n",
    "rects = ax.patches\n",
    "labels = x.values\n",
    "for rect, label in zip(rects, labels):\n",
    "    height = rect.get_height()\n",
    "    ax.text(rect.get_x() + rect.get_width()/2, height + 5, label, ha='center', va='bottom')\n",
    "\n",
    "plt.show()"
   ]
  },
  {
   "cell_type": "markdown",
   "metadata": {
    "ExecuteTime": {
     "end_time": "2019-03-04T14:44:58.272359Z",
     "start_time": "2019-03-04T14:44:58.247097Z"
    }
   },
   "source": [
    "Only 10.2% of the total comments have some sort of toxicity in them. There are certain comments(20) that are marked as all of the above!"
   ]
  },
  {
   "cell_type": "markdown",
   "metadata": {},
   "source": [
    "### Which tags go together?"
   ]
  },
  {
   "cell_type": "markdown",
   "metadata": {},
   "source": [
    "Now let's have a look at how often the tags occur together. A good indicator of that would be a correlation plot."
   ]
  },
  {
   "cell_type": "code",
   "execution_count": 60,
   "metadata": {
    "ExecuteTime": {
     "end_time": "2019-03-04T14:52:56.228190Z",
     "start_time": "2019-03-04T14:52:55.890781Z"
    }
   },
   "outputs": [
    {
     "data": {
      "text/plain": [
       "<matplotlib.axes._subplots.AxesSubplot at 0x1a25d63d30>"
      ]
     },
     "execution_count": 60,
     "metadata": {},
     "output_type": "execute_result"
    },
    {
     "data": {
      "image/png": "[encoded data removed]",
      "text/plain": [
       "<Figure size 720x576 with 2 Axes>"
      ]
     },
     "metadata": {
      "needs_background": "light"
     },
     "output_type": "display_data"
    }
   ],
   "source": [
    "temp_df=train.iloc[:,2:-1]\n",
    "# filter temp by removing clean comments\n",
    "# temp_df=temp_df[~train.clean]\n",
    "\n",
    "corr=temp_df.corr()\n",
    "plt.figure(figsize=(10,8))\n",
    "plt.title(\"Correlations between Different Classes\",fontsize=13)\n",
    "sns.heatmap(corr,\n",
    "            xticklabels=corr.columns.values,\n",
    "            yticklabels=corr.columns.values, annot=True,cmap=\"YlGnBu\")"
   ]
  },
  {
   "cell_type": "markdown",
   "metadata": {},
   "source": [
    "The above plot indicates a pattern of co-occurance but Pandas's default Corr function which uses Pearson correlation does not apply here, since the variables invovled are Categorical (binary) variables.\n",
    "\n",
    "So, to find a pattern between two categorical variables we can use other tools like\n",
    "\n",
    "- Confusion matrix/Crosstab\n",
    "- Cramer's V Statistic: an extension of the chi-square test where the extent/strength of association is also measured"
   ]
  },
  {
   "cell_type": "code",
   "execution_count": 61,
   "metadata": {
    "ExecuteTime": {
     "end_time": "2019-03-04T15:02:24.127575Z",
     "start_time": "2019-03-04T15:02:24.111218Z"
    }
   },
   "outputs": [],
   "source": [
    "# https://pandas.pydata.org/pandas-docs/stable/style.html\n",
    "def highlight_min(data, color='yellow'):\n",
    "    '''\n",
    "    highlight the maximum in a Series or DataFrame\n",
    "    '''\n",
    "    attr = 'background-color: {}'.format(color)\n",
    "    if data.ndim == 1:  # Series from .apply(axis=0) or axis=1\n",
    "        is_min = data == data.min()\n",
    "        return [attr if v else '' for v in is_min]\n",
    "    else:  # from .apply(axis=None)\n",
    "        is_max = data == data.min().min()\n",
    "        return pd.DataFrame(np.where(is_min, attr, ''),\n",
    "                            index=data.index, columns=data.columns)"
   ]
  },
  {
   "cell_type": "code",
   "execution_count": 63,
   "metadata": {
    "ExecuteTime": {
     "end_time": "2019-03-04T15:05:59.147334Z",
     "start_time": "2019-03-04T15:05:58.993640Z"
    }
   },
   "outputs": [
    {
     "data": {
      "text/html": [
       "<style  type=\"text/css\" >\n",
       "    #T_04b056c8_3e8f_11e9_8052_88e9fe695a6arow0_col1 {\n",
       "            background-color:  yellow;\n",
       "        }    #T_04b056c8_3e8f_11e9_8052_88e9fe695a6arow0_col3 {\n",
       "            background-color:  yellow;\n",
       "        }    #T_04b056c8_3e8f_11e9_8052_88e9fe695a6arow0_col5 {\n",
       "            background-color:  yellow;\n",
       "        }    #T_04b056c8_3e8f_11e9_8052_88e9fe695a6arow0_col7 {\n",
       "            background-color:  yellow;\n",
       "        }    #T_04b056c8_3e8f_11e9_8052_88e9fe695a6arow0_col9 {\n",
       "            background-color:  yellow;\n",
       "        }    #T_04b056c8_3e8f_11e9_8052_88e9fe695a6arow1_col0 {\n",
       "            background-color:  yellow;\n",
       "        }    #T_04b056c8_3e8f_11e9_8052_88e9fe695a6arow1_col2 {\n",
       "            background-color:  yellow;\n",
       "        }    #T_04b056c8_3e8f_11e9_8052_88e9fe695a6arow1_col4 {\n",
       "            background-color:  yellow;\n",
       "        }    #T_04b056c8_3e8f_11e9_8052_88e9fe695a6arow1_col6 {\n",
       "            background-color:  yellow;\n",
       "        }    #T_04b056c8_3e8f_11e9_8052_88e9fe695a6arow1_col8 {\n",
       "            background-color:  yellow;\n",
       "        }</style>  \n",
       "<table id=\"T_04b056c8_3e8f_11e9_8052_88e9fe695a6a\" > \n",
       "<thead>    <tr> \n",
       "        <th class=\"blank level0\" ></th> \n",
       "        <th class=\"col_heading level0 col0\" colspan=2>severe_toxic</th> \n",
       "        <th class=\"col_heading level0 col2\" colspan=2>obscene</th> \n",
       "        <th class=\"col_heading level0 col4\" colspan=2>threat</th> \n",
       "        <th class=\"col_heading level0 col6\" colspan=2>insult</th> \n",
       "        <th class=\"col_heading level0 col8\" colspan=2>identity_hate</th> \n",
       "    </tr>    <tr> \n",
       "        <th class=\"index_name level1\" >severe_toxic</th> \n",
       "        <th class=\"col_heading level1 col0\" >0</th> \n",
       "        <th class=\"col_heading level1 col1\" >1</th> \n",
       "        <th class=\"col_heading level1 col2\" >0</th> \n",
       "        <th class=\"col_heading level1 col3\" >1</th> \n",
       "        <th class=\"col_heading level1 col4\" >0</th> \n",
       "        <th class=\"col_heading level1 col5\" >1</th> \n",
       "        <th class=\"col_heading level1 col6\" >0</th> \n",
       "        <th class=\"col_heading level1 col7\" >1</th> \n",
       "        <th class=\"col_heading level1 col8\" >0</th> \n",
       "        <th class=\"col_heading level1 col9\" >1</th> \n",
       "    </tr>    <tr> \n",
       "        <th class=\"index_name level0\" >toxic</th> \n",
       "        <th class=\"blank\" ></th> \n",
       "        <th class=\"blank\" ></th> \n",
       "        <th class=\"blank\" ></th> \n",
       "        <th class=\"blank\" ></th> \n",
       "        <th class=\"blank\" ></th> \n",
       "        <th class=\"blank\" ></th> \n",
       "        <th class=\"blank\" ></th> \n",
       "        <th class=\"blank\" ></th> \n",
       "        <th class=\"blank\" ></th> \n",
       "        <th class=\"blank\" ></th> \n",
       "    </tr></thead> \n",
       "<tbody>    <tr> \n",
       "        <th id=\"T_04b056c8_3e8f_11e9_8052_88e9fe695a6alevel0_row0\" class=\"row_heading level0 row0\" >0</th> \n",
       "        <td id=\"T_04b056c8_3e8f_11e9_8052_88e9fe695a6arow0_col0\" class=\"data row0 col0\" >144277</td> \n",
       "        <td id=\"T_04b056c8_3e8f_11e9_8052_88e9fe695a6arow0_col1\" class=\"data row0 col1\" >0</td> \n",
       "        <td id=\"T_04b056c8_3e8f_11e9_8052_88e9fe695a6arow0_col2\" class=\"data row0 col2\" >143754</td> \n",
       "        <td id=\"T_04b056c8_3e8f_11e9_8052_88e9fe695a6arow0_col3\" class=\"data row0 col3\" >523</td> \n",
       "        <td id=\"T_04b056c8_3e8f_11e9_8052_88e9fe695a6arow0_col4\" class=\"data row0 col4\" >144248</td> \n",
       "        <td id=\"T_04b056c8_3e8f_11e9_8052_88e9fe695a6arow0_col5\" class=\"data row0 col5\" >29</td> \n",
       "        <td id=\"T_04b056c8_3e8f_11e9_8052_88e9fe695a6arow0_col6\" class=\"data row0 col6\" >143744</td> \n",
       "        <td id=\"T_04b056c8_3e8f_11e9_8052_88e9fe695a6arow0_col7\" class=\"data row0 col7\" >533</td> \n",
       "        <td id=\"T_04b056c8_3e8f_11e9_8052_88e9fe695a6arow0_col8\" class=\"data row0 col8\" >144174</td> \n",
       "        <td id=\"T_04b056c8_3e8f_11e9_8052_88e9fe695a6arow0_col9\" class=\"data row0 col9\" >103</td> \n",
       "    </tr>    <tr> \n",
       "        <th id=\"T_04b056c8_3e8f_11e9_8052_88e9fe695a6alevel0_row1\" class=\"row_heading level0 row1\" >1</th> \n",
       "        <td id=\"T_04b056c8_3e8f_11e9_8052_88e9fe695a6arow1_col0\" class=\"data row1 col0\" >13699</td> \n",
       "        <td id=\"T_04b056c8_3e8f_11e9_8052_88e9fe695a6arow1_col1\" class=\"data row1 col1\" >1595</td> \n",
       "        <td id=\"T_04b056c8_3e8f_11e9_8052_88e9fe695a6arow1_col2\" class=\"data row1 col2\" >7368</td> \n",
       "        <td id=\"T_04b056c8_3e8f_11e9_8052_88e9fe695a6arow1_col3\" class=\"data row1 col3\" >7926</td> \n",
       "        <td id=\"T_04b056c8_3e8f_11e9_8052_88e9fe695a6arow1_col4\" class=\"data row1 col4\" >14845</td> \n",
       "        <td id=\"T_04b056c8_3e8f_11e9_8052_88e9fe695a6arow1_col5\" class=\"data row1 col5\" >449</td> \n",
       "        <td id=\"T_04b056c8_3e8f_11e9_8052_88e9fe695a6arow1_col6\" class=\"data row1 col6\" >7950</td> \n",
       "        <td id=\"T_04b056c8_3e8f_11e9_8052_88e9fe695a6arow1_col7\" class=\"data row1 col7\" >7344</td> \n",
       "        <td id=\"T_04b056c8_3e8f_11e9_8052_88e9fe695a6arow1_col8\" class=\"data row1 col8\" >13992</td> \n",
       "        <td id=\"T_04b056c8_3e8f_11e9_8052_88e9fe695a6arow1_col9\" class=\"data row1 col9\" >1302</td> \n",
       "    </tr></tbody> \n",
       "</table> "
      ],
      "text/plain": [
       "<pandas.io.formats.style.Styler at 0x1a27f37ba8>"
      ]
     },
     "execution_count": 63,
     "metadata": {},
     "output_type": "execute_result"
    }
   ],
   "source": [
    "#Crosstab\n",
    "# Since technically a crosstab between all 6 classes is impossible to vizualize, lets take a \n",
    "# look at toxic with other tags\n",
    "main_col=\"toxic\"\n",
    "corr_mats=[]\n",
    "for other_col in temp_df.columns[1:]:\n",
    "    confusion_matrix = pd.crosstab(temp_df[main_col], temp_df[other_col])\n",
    "    corr_mats.append(confusion_matrix)\n",
    "out = pd.concat(corr_mats,axis=1,keys=temp_df.columns[1:])\n",
    "\n",
    "#cell highlighting\n",
    "out = out.style.apply(highlight_min,axis=0)\n",
    "out"
   ]
  },
  {
   "cell_type": "markdown",
   "metadata": {},
   "source": [
    "The above table represents the Crosstab/ consufion matix of Toxic comments with the other classes.\n",
    "\n",
    "Some interesting observations:\n",
    "\n",
    "- A Severe toxic comment is always toxic\n",
    "- Other classes seem to be a subset of toxic barring a few exceptions"
   ]
  },
  {
   "cell_type": "code",
   "execution_count": 64,
   "metadata": {
    "ExecuteTime": {
     "end_time": "2019-03-04T15:11:58.875495Z",
     "start_time": "2019-03-04T15:11:58.864822Z"
    }
   },
   "outputs": [],
   "source": [
    "#https://stackoverflow.com/questions/20892799/using-pandas-calculate-cram%C3%A9rs-coefficient-matrix/39266194\n",
    "def cramers_corrected_stat(confusion_matrix):\n",
    "    \"\"\" calculate Cramers V statistic for categorial-categorial association.\n",
    "        uses correction from Bergsma and Wicher, \n",
    "        Journal of the Korean Statistical Society 42 (2013): 323-328\n",
    "    \"\"\"\n",
    "    chi2 = ss.chi2_contingency(confusion_matrix)[0]\n",
    "    n = confusion_matrix.sum().sum()\n",
    "    phi2 = chi2/n\n",
    "    r,k = confusion_matrix.shape\n",
    "    phi2corr = max(0, phi2 - ((k-1)*(r-1))/(n-1))    \n",
    "    rcorr = r - ((r-1)**2)/(n-1)\n",
    "    kcorr = k - ((k-1)**2)/(n-1)\n",
    "    return np.sqrt(phi2corr / min( (kcorr-1), (rcorr-1)))"
   ]
  },
  {
   "cell_type": "code",
   "execution_count": 65,
   "metadata": {
    "ExecuteTime": {
     "end_time": "2019-03-04T15:12:17.154047Z",
     "start_time": "2019-03-04T15:12:17.098631Z"
    }
   },
   "outputs": [
    {
     "name": "stdout",
     "output_type": "stream",
     "text": [
      "Confusion matrix between toxic and severe toxic:\n",
      "severe_toxic       0     1\n",
      "toxic                     \n",
      "0             144277     0\n",
      "1              13699  1595\n",
      "The correlation between Toxic and Severe toxic using Cramer's stat= 0.30850290540548614\n"
     ]
    }
   ],
   "source": [
    "# Checking for Toxic and Severe toxic for now\n",
    "# Cramer's V Statistic\n",
    "import pandas as pd\n",
    "col1=\"toxic\"\n",
    "col2=\"severe_toxic\"\n",
    "confusion_matrix = pd.crosstab(temp_df[col1], temp_df[col2])\n",
    "print(\"Confusion matrix between toxic and severe toxic:\")\n",
    "print(confusion_matrix)\n",
    "new_corr=cramers_corrected_stat(confusion_matrix)\n",
    "print(\"The correlation between Toxic and Severe toxic using Cramer's stat=\",new_corr)"
   ]
  },
  {
   "cell_type": "markdown",
   "metadata": {},
   "source": [
    "### Example Comments:"
   ]
  },
  {
   "cell_type": "code",
   "execution_count": 68,
   "metadata": {
    "ExecuteTime": {
     "end_time": "2019-03-04T15:21:37.493214Z",
     "start_time": "2019-03-04T15:21:37.473052Z"
    }
   },
   "outputs": [
    {
     "name": "stdout",
     "output_type": "stream",
     "text": [
      "toxic:\n",
      "Hi \n",
      "\n",
      "Im a fucking bitch.\n",
      "\n",
      "50.180.208.181\n",
      "\n",
      "\n",
      "severe_toxic:\n",
      "What a motherfucking piece of crap those fuckheads for blocking us!\n",
      "\n",
      "\n",
      "Threat:\n",
      "I think that your a Fagget get a oife and burn in Hell I hate you 'm sorry we cant have any more sex i'm running out of conndoms\n",
      "\n",
      "\n",
      "Obscene:\n",
      "You are gay or antisemmitian? \n",
      "\n",
      "Archangel WHite Tiger\n",
      "\n",
      "Meow! Greetingshhh!\n",
      "\n",
      "Uh, there are two ways, why you do erased my comment about WW2, that holocaust was brutally slaying of Jews and not gays/Gypsys/Slavs/anyone...\n",
      "\n",
      "1 - If you are anti-semitian, than shave your head bald and go to the skinhead meetings!\n",
      "\n",
      "2 - If you doubt words of the Bible, that homosexuality is a deadly sin, make a pentagram tatoo on your forehead go to the satanistic masses with your gay pals!\n",
      "\n",
      "3 - First and last warning, you fucking gay - I won't appreciate if any more nazi shwain would write in my page! I don't wish to talk to you anymore!\n",
      "\n",
      "Beware of the Dark Side!\n",
      "\n",
      "\n",
      "identity_hate:\n",
      "u r a tw@ fuck off u gay boy.U r smelly.Fuck ur mum poopie\n"
     ]
    }
   ],
   "source": [
    "print(\"toxic:\")\n",
    "print(train[train.severe_toxic==1].iloc[3,1])\n",
    "print(\"\\n\")\n",
    "print(\"severe_toxic:\")\n",
    "print(train[train.severe_toxic==1].iloc[4,1])\n",
    "print(\"\\n\")\n",
    "print(\"Threat:\")\n",
    "print(train[train.threat==1].iloc[1,1])\n",
    "#print(train[train.threat==1].iloc[2,1])\n",
    "print(\"\\n\")\n",
    "print(\"Obscene:\")\n",
    "print(train[train.obscene==1].iloc[1,1])\n",
    "#print(train[train.obscene==1].iloc[2,1])\n",
    "print(\"\\n\")\n",
    "print(\"identity_hate:\")\n",
    "print(train[train.identity_hate==1].iloc[4,1])"
   ]
  },
  {
   "cell_type": "markdown",
   "metadata": {
    "ExecuteTime": {
     "end_time": "2019-03-04T15:22:23.821716Z",
     "start_time": "2019-03-04T15:22:23.814264Z"
    }
   },
   "source": [
    "That was a whole lot of toxicity. Some weird observations:\n",
    "- Some of the comments are extremely and mere copy paste of the same thing\n",
    "- Comments can still contain IP addresses (eg:62.158.73.165), usernames (eg:ARKJEDI10) and some mystery numbers (assume to be article-IDs), which can cause huge overfitting"
   ]
  },
  {
   "cell_type": "markdown",
   "metadata": {
    "ExecuteTime": {
     "end_time": "2019-03-04T15:23:38.972066Z",
     "start_time": "2019-03-04T15:23:38.968970Z"
    }
   },
   "source": [
    "## Wordclouds - Frequent words:"
   ]
  },
  {
   "cell_type": "code",
   "execution_count": null,
   "metadata": {},
   "outputs": [],
   "source": []
  }
 ],
 "metadata": {
  "hide_input": false,
  "kernelspec": {
   "display_name": "Python 3",
   "language": "python",
   "name": "python3"
  },
  "language_info": {
   "codemirror_mode": {
    "name": "ipython",
    "version": 3
   },
   "file_extension": ".py",
   "mimetype": "text/x-python",
   "name": "python",
   "nbconvert_exporter": "python",
   "pygments_lexer": "ipython3",
   "version": "3.7.1"
  },
  "toc": {
   "base_numbering": 1,
   "nav_menu": {},
   "number_sections": true,
   "sideBar": true,
   "skip_h1_title": false,
   "title_cell": "Table of Contents",
   "title_sidebar": "Contents",
   "toc_cell": false,
   "toc_position": {},
   "toc_section_display": true,
   "toc_window_display": false
  },
  "varInspector": {
   "cols": {
    "lenName": 16,
    "lenType": 16,
    "lenVar": 40
   },
   "kernels_config": {
    "python": {
     "delete_cmd_postfix": "",
     "delete_cmd_prefix": "del ",
     "library": "var_list.py",
     "varRefreshCmd": "print(var_dic_list())"
    },
    "r": {
     "delete_cmd_postfix": ") ",
     "delete_cmd_prefix": "rm(",
     "library": "var_list.r",
     "varRefreshCmd": "cat(var_dic_list()) "
    }
   },
   "types_to_exclude": [
    "module",
    "function",
    "builtin_function_or_method",
    "instance",
    "_Feature"
   ],
   "window_display": false
  }
 },
 "nbformat": 4,
 "nbformat_minor": 2
}
